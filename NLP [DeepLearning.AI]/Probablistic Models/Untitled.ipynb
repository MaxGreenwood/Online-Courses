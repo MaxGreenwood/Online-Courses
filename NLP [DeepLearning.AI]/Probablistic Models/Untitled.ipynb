{
 "cells": [
  {
   "cell_type": "markdown",
   "metadata": {},
   "source": [
    "### Inputs"
   ]
  },
  {
   "cell_type": "code",
   "execution_count": 1,
   "metadata": {},
   "outputs": [],
   "source": [
    "steps = 16\n",
    "path = \"UDDDUDUUUDDDUDUU\""
   ]
  },
  {
   "cell_type": "markdown",
   "metadata": {},
   "source": [
    "### Function"
   ]
  },
  {
   "cell_type": "code",
   "execution_count": 2,
   "metadata": {},
   "outputs": [],
   "source": [
    "# 1. split path into sequence of steps using a list comprehension\n",
    "path_sequence = [char for char in path]"
   ]
  },
  {
   "cell_type": "code",
   "execution_count": 3,
   "metadata": {},
   "outputs": [],
   "source": [
    "# 2. make a counter for the height above sea level the man traverses and a list to mark the progress of his steps\n",
    "\n",
    "altitude = 0\n",
    "progress = [0]\n",
    "\n",
    "for i in range(steps):\n",
    "    if path_sequence[i] == 'U':\n",
    "        altitude += 1\n",
    "    else:\n",
    "        altitude -= 1\n",
    "   \n",
    "    progress.append(altitude) "
   ]
  },
  {
   "cell_type": "code",
   "execution_count": 4,
   "metadata": {},
   "outputs": [],
   "source": [
    "# 3. make a sliding window and counter to count the number of times he passes below sea level (from 0 to -1)\n",
    "\n",
    "valleys = 0\n",
    "valley_indicator = (0,-1)\n",
    "\n",
    "for i in range(steps):\n",
    "    window = tuple(progress[i:i+2])\n",
    "    if window == valley_indicator:\n",
    "        valleys += 1"
   ]
  },
  {
   "cell_type": "markdown",
   "metadata": {},
   "source": [
    "### Output"
   ]
  },
  {
   "cell_type": "code",
   "execution_count": 5,
   "metadata": {},
   "outputs": [
    {
     "data": {
      "text/plain": [
       "2"
      ]
     },
     "execution_count": 5,
     "metadata": {},
     "output_type": "execute_result"
    }
   ],
   "source": [
    "valleys"
   ]
  }
 ],
 "metadata": {
  "kernelspec": {
   "display_name": "Python 3",
   "language": "python",
   "name": "python3"
  },
  "language_info": {
   "codemirror_mode": {
    "name": "ipython",
    "version": 3
   },
   "file_extension": ".py",
   "mimetype": "text/x-python",
   "name": "python",
   "nbconvert_exporter": "python",
   "pygments_lexer": "ipython3",
   "version": "3.8.3"
  }
 },
 "nbformat": 4,
 "nbformat_minor": 4
}
